{
 "cells": [
  {
   "cell_type": "markdown",
   "id": "9000d917-efe4-436b-9c51-6ccb968dab27",
   "metadata": {},
   "source": [
    "# Amazon Nova Lite (or can Nova Pro or Nova Premier) Model"
   ]
  },
  {
   "cell_type": "code",
   "execution_count": 1,
   "id": "21a75eb1-a7e0-45bb-9054-819c4b483c1e",
   "metadata": {},
   "outputs": [],
   "source": [
    "import os\n",
    "import boto3\n",
    "import json\n",
    "import base64\n",
    "from PIL import Image\n",
    "bedrockruntime = boto3.client('bedrock-runtime', region_name='us-west-2')\n",
    "novalite = 'us.amazon.nova-lite-v1:0'"
   ]
  },
  {
   "cell_type": "markdown",
   "id": "539d5963-eb26-44d2-b337-b47fb456ada8",
   "metadata": {},
   "source": [
    "# Define Nova Lite prompt function (.csv based)"
   ]
  },
  {
   "cell_type": "code",
   "execution_count": 2,
   "id": "004d4640-cf46-4c06-9136-073c4d0f2954",
   "metadata": {},
   "outputs": [
    {
     "name": "stderr",
     "output_type": "stream",
     "text": [
      "/home/ec2-user/anaconda3/envs/python3/lib/python3.10/site-packages/pandas/core/computation/expressions.py:21: UserWarning: Pandas requires version '2.8.4' or newer of 'numexpr' (version '2.7.3' currently installed).\n",
      "  from pandas.core.computation.check import NUMEXPR_INSTALLED\n"
     ]
    },
    {
     "name": "stdout",
     "output_type": "stream",
     "text": [
      "{'Order ID': 'CA-2016-152156', 'Order Date': 42682, 'Ship Date': '11/11/2016', 'Ship Mode': 'Second Class', 'Customer ID': 'CG-12520', 'Customer Name': 'Claire Gute', 'Segment': 'Consumer', 'City': 'Henderson', 'State': 'Kentucky', 'Product ID': 'FUR-BO-10001798', 'Category': 'Furniture', 'Sub-Category': 'Bookcases', 'Product Name': 'Bush Somerset Collection Bookcase', 'Sales': 261.96, 'Quantity': 2, 'Discount': 0.0, 'Profit': 41.9136}\n",
      "{'Order ID': 'CA-2016-152156', 'Order Date': 42682, 'Ship Date': '11/11/2016', 'Ship Mode': 'Second Class', 'Customer ID': 'CG-12520', 'Customer Name': 'Claire Gute', 'Segment': 'Consumer', 'City': 'Henderson', 'State': 'Kentucky', 'Product ID': 'FUR-CH-10000454', 'Category': 'Furniture', 'Sub-Category': 'Chairs', 'Product Name': 'Hon Deluxe Fabric Upholstered Stacking Chairs, Rounded Back', 'Sales': 731.94, 'Quantity': 3, 'Discount': 0.0, 'Profit': 219.582}\n",
      "{'Order ID': 'US-2015-108966', 'Order Date': 42288, 'Ship Date': '18/10/2015', 'Ship Mode': 'Standard Class', 'Customer ID': 'SO-20335', 'Customer Name': \"Sean O'Donnell\", 'Segment': 'Consumer', 'City': 'Fort Lauderdale', 'State': 'Florida', 'Product ID': 'FUR-TA-10000577', 'Category': 'Furniture', 'Sub-Category': 'Tables', 'Product Name': 'Bretford CR4500 Series Slim Rectangular Table', 'Sales': 957.5775, 'Quantity': 5, 'Discount': 0.45, 'Profit': -383.031}\n",
      "{'Order ID': 'US-2015-108966', 'Order Date': 42288, 'Ship Date': '18/10/2015', 'Ship Mode': 'Standard Class', 'Customer ID': 'SO-20335', 'Customer Name': \"Sean O'Donnell\", 'Segment': 'Consumer', 'City': 'Fort Lauderdale', 'State': 'Florida', 'Product ID': 'OFF-ST-10000760', 'Category': 'Office Supplies', 'Sub-Category': 'Storage', 'Product Name': \"Eldon Fold 'N Roll Cart System\", 'Sales': 22.368, 'Quantity': 2, 'Discount': 0.2, 'Profit': 2.5164}\n",
      "{'Order ID': 'CA-2017-114412', 'Order Date': 42840, 'Ship Date': '20/4/2017', 'Ship Mode': 'Standard Class', 'Customer ID': 'AA-10480', 'Customer Name': 'Andrew Allen', 'Segment': 'Consumer', 'City': 'Concord', 'State': 'North Carolina', 'Product ID': 'OFF-PA-10002365', 'Category': 'Office Supplies', 'Sub-Category': 'Paper', 'Product Name': 'Xerox 1967', 'Sales': 15.552, 'Quantity': 3, 'Discount': 0.2, 'Profit': 5.4432}\n",
      "{'Order ID': 'CA-2017-139619', 'Order Date': 42997, 'Ship Date': '23/9/2017', 'Ship Mode': 'Standard Class', 'Customer ID': 'ES-14080', 'Customer Name': 'Erin Smith', 'Segment': 'Corporate', 'City': 'Melbourne', 'State': 'Florida', 'Product ID': 'OFF-ST-10003282', 'Category': 'Office Supplies', 'Sub-Category': 'Storage', 'Product Name': 'Advantus 10-Drawer Portable Organizer, Chrome Metal Frame, Smoke Drawers', 'Sales': 95.616, 'Quantity': 2, 'Discount': 0.2, 'Profit': 9.5616}\n",
      "{'Order ID': 'CA-2016-119823', 'Order Date': 42525, 'Ship Date': '6/6/2016', 'Ship Mode': 'First Class', 'Customer ID': 'KD-16270', 'Customer Name': 'Karen Daniels', 'Segment': 'Consumer', 'City': 'Springfield', 'State': 'Virginia', 'Product ID': 'OFF-PA-10000482', 'Category': 'Office Supplies', 'Sub-Category': 'Paper', 'Product Name': 'Snap-A-Way Black Print Carbonless Ruled Speed Letter, Triplicate', 'Sales': 75.88, 'Quantity': 2, 'Discount': 0.0, 'Profit': 35.6636}\n",
      "{'Order ID': 'CA-2015-114415', 'Order Date': 42845, 'Ship Date': '20/4/2015', 'Ship Mode': 'Standard Class', 'Customer ID': 'AA-10485', 'Customer Name': 'Budiono Santoso', 'Segment': 'Consumer', 'City': 'New York City', 'State': ' New York', 'Product ID': 'OFF-PA-10002355', 'Category': 'Office Supplies', 'Sub-Category': 'Paper', 'Product Name': 'New Paper High Quality', 'Sales': 15.555, 'Quantity': 3, 'Discount': 0.2, 'Profit': 5.4432}\n"
     ]
    }
   ],
   "source": [
    "import pandas as pd\n",
    "df = pd.read_csv(\"Ecommerce data.csv\")\n",
    "rows = df.to_dict(orient=\"records\")\n",
    "format = \"\\n\".join([str(row) for row in rows])\n",
    "print(format)"
   ]
  },
  {
   "cell_type": "code",
   "execution_count": 3,
   "id": "990e1693-d9f5-46fd-b849-b0d704d20105",
   "metadata": {},
   "outputs": [],
   "source": [
    "def csvprompt(csvpath, prompt, maxTokens, temperature):\n",
    "    import pandas as pd\n",
    "    df = pd.read_csv(csvpath)\n",
    "    rows = df.to_dict(orient=\"records\")\n",
    "    format = \"\\n\".join([str(row) for row in rows])\n",
    "\n",
    "    message = [\n",
    "        {\n",
    "            \"role\": \"user\",\n",
    "            \"content\": [\n",
    "                {\n",
    "                    \"text\": prompt + \"\\n\" + format\n",
    "                }\n",
    "            ],\n",
    "        }\n",
    "    ]\n",
    "\n",
    "    inf_params = {\"maxTokens\": maxTokens, \"temperature\": temperature}\n",
    "\n",
    "    request = {\n",
    "        \"messages\": message,\n",
    "        \"inferenceConfig\": inf_params\n",
    "    }\n",
    "\n",
    "    response = bedrockruntime.invoke_model(modelId=novalite, body=json.dumps(request))\n",
    "    model_response = json.loads(response[\"body\"].read())\n",
    "    return model_response"
   ]
  },
  {
   "cell_type": "markdown",
   "id": "13e5ba40-5223-460a-bb38-4baac3000690",
   "metadata": {},
   "source": [
    "# Prompt Engineering - Data Analysis"
   ]
  },
  {
   "cell_type": "code",
   "execution_count": 4,
   "id": "a870420e-3fb1-4cc9-ba6c-75419333ba1b",
   "metadata": {},
   "outputs": [
    {
     "name": "stdout",
     "output_type": "stream",
     "text": [
      "{'output': {'message': {'content': [{'text': \"1. **Product Name that Budiono Santoso bought:**\\n   - Look for the entry where 'Customer Name' is 'Budiono Santoso'.\\n   - The product name in that entry is 'New Paper High Quality'.\\n\\n2. **Total Sales in the data:**\\n   - Sum the 'Sales' values from all entries.\\n   - Calculation: 261.96 + 731.94 + 957.5775 + 22.368 + 15.552 + 95.616 + 75.88 + 15.555 = 2270.9495.\\n\\n3. **Total Profit in the data:**\\n   - Sum the 'Profit' values from all entries.\\n   - Calculation: 41.9136 + 219.582 + (-383.031) + 2.5164 + 5.4432 + 9.5616 + 35.6636 + 5.4432 = -30.908.\\n\\n4. **Best-selling product based on quantity:**\\n   - Identify the entry with the highest 'Quantity' value.\\n   - The entry with the highest quantity is 'Bretford CR4500 Series Slim Rectangular Table' with a quantity of 5.\\n   - The product name of the best-selling based on quantity is 'Bretford CR4500 Series Slim Rectangular Table'.\"}], 'role': 'assistant'}}, 'stopReason': 'end_turn', 'usage': {'inputTokens': 1769, 'outputTokens': 343, 'totalTokens': 2112, 'cacheReadInputTokenCount': 0, 'cacheWriteInputTokenCount': 0}}\n"
     ]
    }
   ],
   "source": [
    "csvpath = \"Ecommerce data.csv\"\n",
    "prompt = '''\n",
    "1. What product name that Budiono Santoso buy?\n",
    "2. How much was the total sales in the data?\n",
    "3. How much was the total profit in the data?\n",
    "4. What product name of the best-selling based quantity?\n",
    "Answer this question with step-by-step and thinking before answer, without detailed explanation.\n",
    "'''.strip()\n",
    "maxTokens = 400\n",
    "temperature = 0.1\n",
    "csvresult = csvprompt(csvpath, prompt, maxTokens, temperature)\n",
    "print(csvresult)"
   ]
  },
  {
   "cell_type": "code",
   "execution_count": 5,
   "id": "05972835-0610-4d28-a3cc-85d508518a91",
   "metadata": {},
   "outputs": [
    {
     "name": "stdout",
     "output_type": "stream",
     "text": [
      "1. **Product Name that Budiono Santoso bought:**\n",
      "   - Look for the entry where 'Customer Name' is 'Budiono Santoso'.\n",
      "   - The product name in that entry is 'New Paper High Quality'.\n",
      "\n",
      "2. **Total Sales in the data:**\n",
      "   - Sum the 'Sales' values from all entries.\n",
      "   - Calculation: 261.96 + 731.94 + 957.5775 + 22.368 + 15.552 + 95.616 + 75.88 + 15.555 = 2270.9495.\n",
      "\n",
      "3. **Total Profit in the data:**\n",
      "   - Sum the 'Profit' values from all entries.\n",
      "   - Calculation: 41.9136 + 219.582 + (-383.031) + 2.5164 + 5.4432 + 9.5616 + 35.6636 + 5.4432 = -30.908.\n",
      "\n",
      "4. **Best-selling product based on quantity:**\n",
      "   - Identify the entry with the highest 'Quantity' value.\n",
      "   - The entry with the highest quantity is 'Bretford CR4500 Series Slim Rectangular Table' with a quantity of 5.\n",
      "   - The product name of the best-selling based on quantity is 'Bretford CR4500 Series Slim Rectangular Table'.\n"
     ]
    }
   ],
   "source": [
    "answer = csvresult[\"output\"][\"message\"][\"content\"][0][\"text\"]\n",
    "print(answer)"
   ]
  },
  {
   "cell_type": "markdown",
   "id": "328f15a6-971e-4b0c-a085-d553f48da28b",
   "metadata": {},
   "source": [
    "# Define Nova Lite prompt function (.pdf based)"
   ]
  },
  {
   "cell_type": "code",
   "execution_count": 6,
   "id": "06d4fda3-c391-49fd-b22b-0e9333a5e5d1",
   "metadata": {},
   "outputs": [],
   "source": [
    "def pdfprompt(pdfpath, prompt, maxTokens, temperature):\n",
    "    # Read and base64 encode the image\n",
    "    with open(pdfpath, \"rb\") as file:\n",
    "        docs_bytes = file.read()\n",
    "        base64_string = base64.b64encode(docs_bytes).decode(\"utf-8\")\n",
    "\n",
    "    extension = os.path.splitext(pdfpath)[1][1:]\n",
    "    filename = os.path.splitext(pdfpath)[0]\n",
    "\n",
    "    # Create the message structure\n",
    "    message = [\n",
    "        {\n",
    "            \"role\": \"user\",\n",
    "            \"content\": [\n",
    "                {\n",
    "                    \"document\": {\n",
    "                        \"format\": extension,\n",
    "                        \"name\": filename,\n",
    "                        \"source\": {\n",
    "                            \"bytes\": base64_string\n",
    "                        }\n",
    "                    }\n",
    "                },\n",
    "                {\n",
    "                    \"text\": prompt\n",
    "                }\n",
    "            ],\n",
    "        }\n",
    "    ]\n",
    "\n",
    "    inf_params = {\"maxTokens\": maxTokens, \"temperature\": temperature}\n",
    "\n",
    "    request = {\n",
    "        \"messages\": message,\n",
    "        \"inferenceConfig\": inf_params\n",
    "    }\n",
    "\n",
    "    response = bedrockruntime.invoke_model(modelId=novalite, body=json.dumps(request))\n",
    "    model_response = json.loads(response[\"body\"].read())\n",
    "    return model_response"
   ]
  },
  {
   "cell_type": "markdown",
   "id": "6850f06e-e5a9-4ee9-8049-f578d6bb3f06",
   "metadata": {},
   "source": [
    "# Prompt Engineering - Recommendation / Decision Making"
   ]
  },
  {
   "cell_type": "code",
   "execution_count": 7,
   "id": "ef41cd3e-03cd-46b0-84d3-6c1e5be35ced",
   "metadata": {},
   "outputs": [],
   "source": [
    "pdfpath = \"Always Winner CV.pdf\"\n",
    "\n",
    "minimal_requirements = '''\n",
    "Bachelor's or Master's degree in Computer Science, Engineering, Mathematics, or a related field\n",
    "\n",
    "Min. 1 year of work experience in developing and implementing AI solutions\n",
    "\n",
    "Proficient in frameworks such as TensorFlow, PyTorch, and programming languages like Python, R, Java, or C++\n",
    "\n",
    "Skilled in RAG (Retrieval-Augmented Generation) techniques and LLMs (Large Language Models)\n",
    "\n",
    "Basic knowledge of application development and deployment processes\n",
    "\n",
    "In-depth understanding of machine learning algorithms, deep learning, and other AI techniques\n",
    "\n",
    "Experience with data preprocessing and data analysis techniques\n",
    "\n",
    "Ability to evaluate and improve AI model performance\n",
    "'''.strip()\n",
    "\n",
    "preferred_requirements = '''\n",
    "Experienced with cloud services such as AWS, Google Cloud, or Azure\n",
    "'''.strip()"
   ]
  },
  {
   "cell_type": "code",
   "execution_count": 10,
   "id": "51424d69-a9b4-474d-a8c5-3efc3d1203b8",
   "metadata": {},
   "outputs": [
    {
     "name": "stdout",
     "output_type": "stream",
     "text": [
      "{'output': {'message': {'content': [{'text': \"Based on the CV provided, Always Winner has a solid background in AI and machine learning, with relevant experience and education. Here's an analysis of their qualifications:\\n\\nStrengths:\\n\\nExperience: Always Winner has worked as an AI Engineer at Winner, LLC, and as a Junior AI Engineer at Nerwin, LLC, both in New York City. This indicates a strong professional background in AI.\\n\\nEducation: They hold a Bachelor of Artificial Intelligence from the University of AI Everywhere, which is a relevant and specialized degree.\\n\\nTechnical Skills: Always Winner has a broad range of technical skills, including programming languages (Python, Java, C++), machine learning frameworks (TensorFlow, PyTorch, Keras), and cloud platforms (AWS, Azure, Google Cloud). They also have experience with generative AI models and various machine learning techniques.\\n\\nRecommendation:\\n\\nMinimum Requirements: Always Winner meets the minimum requirements for the position, as they have relevant experience in AI and machine learning, a specialized degree, and a broad range of technical skills.\\n\\nPreferred Requirements: While Always Winner meets the minimum requirements, they may not fully meet the preferred requirements, which likely include more advanced experience in specific areas of AI, such as generative AI, deep learning, or specific cloud platforms. However, their strong background and willingness to learn could make them a good fit with some additional training or experience.\\n\\nNext Steps:\\n\\nInterview: Always Winner should be invited for an interview to discuss their experience in more detail and assess their fit for the role.\\nSkill Assessment: Consider conducting a technical assessment or project to evaluate their practical skills in areas such as generative AI, deep learning, and cloud platforms.\\n\\nOverall, Always Winner is a strong candidate with the potential to meet the preferred requirements with some additional development.\"}], 'role': 'assistant'}}, 'stopReason': 'end_turn', 'usage': {'inputTokens': 1650, 'outputTokens': 347, 'totalTokens': 1997, 'cacheReadInputTokenCount': 0, 'cacheWriteInputTokenCount': 0}}\n"
     ]
    }
   ],
   "source": [
    "prompt = '''\n",
    "1. Analysis this CV without rewrite the results of the CV extract.\n",
    "2. Do you recommend this candidate for next step based on {minimum_requirements} and {preferred_requirements}?\n",
    "'''.strip()\n",
    "maxTokens = 1000\n",
    "temperature = 0.1\n",
    "pdfresult = pdfprompt(pdfpath, prompt, maxTokens, temperature)\n",
    "print(pdfresult)"
   ]
  },
  {
   "cell_type": "code",
   "execution_count": 11,
   "id": "ce9efd31-087e-44df-b14f-3bab001d61f2",
   "metadata": {},
   "outputs": [
    {
     "name": "stdout",
     "output_type": "stream",
     "text": [
      "Based on the CV provided, Always Winner has a solid background in AI and machine learning, with relevant experience and education. Here's an analysis of their qualifications:\n",
      "\n",
      "Strengths:\n",
      "\n",
      "Experience: Always Winner has worked as an AI Engineer at Winner, LLC, and as a Junior AI Engineer at Nerwin, LLC, both in New York City. This indicates a strong professional background in AI.\n",
      "\n",
      "Education: They hold a Bachelor of Artificial Intelligence from the University of AI Everywhere, which is a relevant and specialized degree.\n",
      "\n",
      "Technical Skills: Always Winner has a broad range of technical skills, including programming languages (Python, Java, C++), machine learning frameworks (TensorFlow, PyTorch, Keras), and cloud platforms (AWS, Azure, Google Cloud). They also have experience with generative AI models and various machine learning techniques.\n",
      "\n",
      "Recommendation:\n",
      "\n",
      "Minimum Requirements: Always Winner meets the minimum requirements for the position, as they have relevant experience in AI and machine learning, a specialized degree, and a broad range of technical skills.\n",
      "\n",
      "Preferred Requirements: While Always Winner meets the minimum requirements, they may not fully meet the preferred requirements, which likely include more advanced experience in specific areas of AI, such as generative AI, deep learning, or specific cloud platforms. However, their strong background and willingness to learn could make them a good fit with some additional training or experience.\n",
      "\n",
      "Next Steps:\n",
      "\n",
      "Interview: Always Winner should be invited for an interview to discuss their experience in more detail and assess their fit for the role.\n",
      "Skill Assessment: Consider conducting a technical assessment or project to evaluate their practical skills in areas such as generative AI, deep learning, and cloud platforms.\n",
      "\n",
      "Overall, Always Winner is a strong candidate with the potential to meet the preferred requirements with some additional development.\n"
     ]
    }
   ],
   "source": [
    "answer = pdfresult[\"output\"][\"message\"][\"content\"][0][\"text\"]\n",
    "print(answer)"
   ]
  },
  {
   "cell_type": "markdown",
   "id": "a816a46c-dbc9-4fda-9782-8243cc6469f9",
   "metadata": {},
   "source": [
    "# Define Nova Lite prompt function (.png or .jpg based)"
   ]
  },
  {
   "cell_type": "code",
   "execution_count": 12,
   "id": "c5e9402b-a336-4213-8322-d7785c81da30",
   "metadata": {},
   "outputs": [],
   "source": [
    "def imageprompt(imagepath, prompt, maxTokens, temperature):\n",
    "    # Read and base64 encode the image\n",
    "    with open(imagepath, \"rb\") as file:\n",
    "        image_bytes = file.read()\n",
    "        base64_string = base64.b64encode(image_bytes).decode(\"utf-8\")\n",
    "\n",
    "    extension = os.path.splitext(imagepath)[1][1:]\n",
    "\n",
    "    # Create the message structure\n",
    "    message = [\n",
    "        {\n",
    "            \"role\": \"user\",\n",
    "            \"content\": [\n",
    "                {\n",
    "                    \"image\": {\n",
    "                        \"format\": extension,\n",
    "                        \"source\": {\n",
    "                            \"bytes\": base64_string\n",
    "                        },\n",
    "                    }\n",
    "                },\n",
    "                {\n",
    "                    \"text\": prompt\n",
    "                }\n",
    "            ],\n",
    "        }\n",
    "    ]\n",
    "\n",
    "    inf_params = {\"maxTokens\": maxTokens, \"temperature\": temperature}\n",
    "\n",
    "    request = {\n",
    "        \"messages\": message,\n",
    "        \"inferenceConfig\": inf_params\n",
    "    }\n",
    "\n",
    "    response = bedrockruntime.invoke_model(modelId=novalite, body=json.dumps(request))\n",
    "    model_response = json.loads(response[\"body\"].read())\n",
    "    return model_response"
   ]
  },
  {
   "cell_type": "markdown",
   "id": "a626741d-fe7b-406c-9788-5a9ad01b9dc7",
   "metadata": {},
   "source": [
    "# Prompt Engineering - Structured Output"
   ]
  },
  {
   "cell_type": "code",
   "execution_count": 14,
   "id": "c88c985f-2996-4128-8a43-b8d62eaff357",
   "metadata": {},
   "outputs": [
    {
     "name": "stdout",
     "output_type": "stream",
     "text": [
      "{'output': {'message': {'content': [{'text': '- Store Name : PASTA & CO.\\n- Date : 08-12-2023\\n- Total : $29.80'}], 'role': 'assistant'}}, 'stopReason': 'end_turn', 'usage': {'inputTokens': 1699, 'outputTokens': 36, 'totalTokens': 1735, 'cacheReadInputTokenCount': 0, 'cacheWriteInputTokenCount': 0}}\n"
     ]
    }
   ],
   "source": [
    "imagepath = \"receipts.jpg\"\n",
    "prompt = '''\n",
    "Extract this receipt and write result of extraction with format:\n",
    "- Store Name :\n",
    "- Date :\n",
    "- Total :\n",
    "'''.strip()\n",
    "maxTokens = 300\n",
    "temperature = 0.1\n",
    "imageresult = imageprompt(imagepath, prompt, maxTokens, temperature)\n",
    "print(imageresult)"
   ]
  },
  {
   "cell_type": "code",
   "execution_count": 15,
   "id": "9ff76fe6-cacd-4d14-b856-68e2be658b1a",
   "metadata": {},
   "outputs": [
    {
     "name": "stdout",
     "output_type": "stream",
     "text": [
      "- Store Name : PASTA & CO.\n",
      "- Date : 08-12-2023\n",
      "- Total : $29.80\n"
     ]
    }
   ],
   "source": [
    "answer = imageresult[\"output\"][\"message\"][\"content\"][0][\"text\"]\n",
    "print(answer)"
   ]
  },
  {
   "cell_type": "markdown",
   "id": "ee88c74a-ebe7-4bd3-9d35-59daa33da10a",
   "metadata": {},
   "source": [
    "# Prompt Engineering - Content Generation"
   ]
  },
  {
   "cell_type": "code",
   "execution_count": 20,
   "id": "23ed949e-58a3-4336-b98a-732d14d7ed39",
   "metadata": {},
   "outputs": [],
   "source": [
    "def contentprompt(prompt, maxTokens, temperature):\n",
    "    message = [\n",
    "        {\n",
    "            \"role\": \"user\",\n",
    "            \"content\": [\n",
    "                {\n",
    "                    \"text\": prompt\n",
    "                }\n",
    "            ]\n",
    "        }\n",
    "    ]\n",
    "\n",
    "    inf_params = {\"maxTokens\": maxTokens, \"temperature\": temperature}\n",
    "\n",
    "    request = {\n",
    "        \"messages\": message,\n",
    "        \"inferenceConfig\": inf_params\n",
    "    }\n",
    "\n",
    "    response = bedrockruntime.invoke_model(modelId=novalite, body=json.dumps(request))\n",
    "    model_response = json.loads(response[\"body\"].read())\n",
    "    return model_response"
   ]
  },
  {
   "cell_type": "code",
   "execution_count": 21,
   "id": "3162f6da-da2c-47c3-a867-fb0577ca39fe",
   "metadata": {},
   "outputs": [
    {
     "name": "stdout",
     "output_type": "stream",
     "text": [
      "{'output': {'message': {'content': [{'text': '### Marketing Campaign: \"Your Dream Home Awaits\"\\n\\n#### **Campaign Overview:**\\nIntroducing an exclusive marketing campaign designed to attract millennial and Gen Z homebuyers aged 19-40. Our focus is on offering affordable landed houses in prime locations, providing a perfect blend of comfort, convenience, and value.\\n\\n---\\n\\n### **1. Campaign Name:**\\n**\"Your Dream Home Awaits\"**\\n\\n---\\n\\n### **2. Campaign Objectives:**\\n- **Raise Awareness:** Highlight the availability of cheap landed houses in strategic locations.\\n- **Generate Interest:** Engage potential buyers with detailed, informative content.\\n- **Drive Action:** Encourage immediate inquiries and property viewings.\\n\\n---\\n\\n### **3. Target Audience:**\\n- **Demographics:** Millennials and Gen Z, aged 19-40.\\n- **Psychographics:** Young professionals, families, and individuals seeking affordable housing solutions in desirable areas.\\n\\n---\\n\\n### **4. Key Messaging:**\\n- **Primary Message:** \"Discover affordable landed houses in prime locations, perfect for your lifestyle needs.\"\\n- **Secondary Message:** \"Invest in your future with a home that offers both comfort and convenience.\"\\n\\n---\\n\\n### **5. Channels:**\\n- **Social Media:** Instagram, Facebook, TikTok, and LinkedIn.\\n- **Email Marketing:** Targeted email campaigns.\\n- **Content Marketing:** Blog posts, infographics, and videos.\\n- **Local Advertising:** Flyers, local newspapers, and community boards.\\n\\n---\\n\\n### **6. Content Strategy:**\\n\\n#### **A. Social Media Posts:**\\n- **Instagram & Facebook:**\\n  - **Post 1:** \"Dreaming of a landed house? Check out our affordable options in prime locations! 🏡✨ #DreamHome #AffordableLiving\"\\n  - **Post 2:** \"Why settle for less? Discover our cheap landed houses that offer the perfect blend of comfort and convenience. 🌟 #HomeSweetHome #RealEstate\"\\n  - **Post 3:** \"Millennials & Gen Z, your dream home is waiting! Explore our strategic locations today. 🏡🌆 #YoungHomebuyers #PropertyInvestment\"\\n\\n- **TikTok:**\\n  - **Video 1:** \"Tour our affordable landed houses in prime locations! Swipe up to learn more. 🏡✨ #HomeTour #AffordableHouses\"\\n  - **Video 2:** \"Looking for a cheap landed house? Check out these amazing options! 🌟 #RealEstate #DreamHome\"\\n\\n- **LinkedIn:**\\n  - **Post:** \"For young professionals and families, discover affordable landed houses in strategic locations. Invest in your future today! 🏡🌆 #RealEstate #HomeInvestment\"\\n\\n#### **B. Email Campaign:**\\n- **Subject Line:** \"Unlock Your Dream Home: Affordable Landed Houses in Prime Locations!\"\\n- **Body:**\\n  ```\\n  Hi [Name],\\n\\n  Are you in the market for a landed house that won\\'t break the bank? Look no further! We are excited to present you with a range of affordable landed houses in prime locations, perfect for millennials and Gen Z.\\n\\n  🌟 **Why Choose Our Landed Houses?**\\n  - **Affordable Prices:** Get more for your money.\\n  - **Strategic Locations:** Close to schools, parks, and public transport.\\n  - **Comfort & Convenience:** Spacious living areas and modern amenities.\\n\\n  Don\\'t miss out on this opportunity to invest in your dream home. Contact us today to schedule a viewing!\\n\\n  Best regards,\\n  [Your Name]\\n  [Your Contact Information]\\n  ```\\n\\n#### **C. Blog Posts:**\\n- **Post 1:** \"Top 5 Reasons to Invest in a Landed House for Millennials and Gen Z\"\\n- **Post 2:** \"Finding Affordable Landed Houses in Prime Locations: A Guide for Young Homebuyers\"\\n- **Post 3:** \"How to Choose the Perfect Landed House for Your Lifestyle\"\\n\\n#### **D. Infographics:**\\n- **Infographic 1:** \"The Benefits of Buying a Landed House in Your 20s and 30s\"\\n- **Infographic 2:** \"Affordable Landed Houses: Location, Price, and Lifestyle\"\\n\\n#### **E. Videos:**\\n- **Video 1:** \"Virtual Tour: Affordable Landed Houses in Prime Locations\"\\n- **Video 2:** \"Why Millennials and Gen Z Should Invest in Landed Houses\"\\n\\n---\\n\\n### **7. Call to Action (CTA):**\\n- **Social Media:** \"Swipe up to learn more!\" / \"Click the link in our bio to explore!\"\\n- **Email:** \"Contact us today to schedule a viewing!\"\\n- **Blog & Infographics:** \"Download our guide now!\" / \"Sign up for our newsletter for more tips!\"\\n- **Local Advertising:** \"Visit our website to view available properties!\"\\n\\n---\\n\\n### **8. Performance Metrics:**\\n- **Social Media Engagement:** Likes, comments, shares, and swipe-ups.\\n- **Email Open Rates:** Track open rates and click-through rates.\\n- **Website Traffic:** Monitor visits to property listings and blog posts.\\n- **Lead Generation:** Number of inquiries and scheduled viewings.\\n\\n---\\n\\n### **9. Budget Allocation:**\\n- **Social Media Ads:** 30%\\n- **Email Marketing:** 20%\\n- **Content Creation:** 25%\\n- **Local Advertising:** 15%\\n- **Miscellaneous:** 10%\\n\\n---\\n\\n### **10. Timeline:**\\n- **Month 1:** Campaign launch, initial social media posts, email campaign.\\n- **Month 2:** Blog posts and infographics release, continued social media engagement.\\n- **Month 3:** Video content release, local advertising, performance review.\\n- **Month 4:** Adjustments based on performance metrics, ongoing engagement.\\n\\n---\\n\\nBy leveraging a detailed, informative approach and inviting customers to buy, this campaign aims to attract millennial and Gen Z homebuyers to our affordable landed houses in strategic locations.'}], 'role': 'assistant'}}, 'stopReason': 'end_turn', 'usage': {'inputTokens': 55, 'outputTokens': 1259, 'totalTokens': 1314, 'cacheReadInputTokenCount': 0, 'cacheWriteInputTokenCount': 0}}\n"
     ]
    }
   ],
   "source": [
    "prompt = '''\n",
    "Create a marketing campaign to attract customers based this data:\n",
    "- Topic : Cheap landed house in strategic location.\n",
    "- Target and age : Milenial and Gen Z, between 19 - 40.\n",
    "- Tone : Detailed informative, invite customers to buy.\n",
    "'''.strip()\n",
    "maxTokens = 2000\n",
    "temperature = 0.1\n",
    "result = contentprompt(prompt, maxTokens, temperature)\n",
    "print(result)"
   ]
  },
  {
   "cell_type": "code",
   "execution_count": 22,
   "id": "f638e2b2-37b1-4552-83e6-7990089022bc",
   "metadata": {},
   "outputs": [
    {
     "name": "stdout",
     "output_type": "stream",
     "text": [
      "### Marketing Campaign: \"Your Dream Home Awaits\"\n",
      "\n",
      "#### **Campaign Overview:**\n",
      "Introducing an exclusive marketing campaign designed to attract millennial and Gen Z homebuyers aged 19-40. Our focus is on offering affordable landed houses in prime locations, providing a perfect blend of comfort, convenience, and value.\n",
      "\n",
      "---\n",
      "\n",
      "### **1. Campaign Name:**\n",
      "**\"Your Dream Home Awaits\"**\n",
      "\n",
      "---\n",
      "\n",
      "### **2. Campaign Objectives:**\n",
      "- **Raise Awareness:** Highlight the availability of cheap landed houses in strategic locations.\n",
      "- **Generate Interest:** Engage potential buyers with detailed, informative content.\n",
      "- **Drive Action:** Encourage immediate inquiries and property viewings.\n",
      "\n",
      "---\n",
      "\n",
      "### **3. Target Audience:**\n",
      "- **Demographics:** Millennials and Gen Z, aged 19-40.\n",
      "- **Psychographics:** Young professionals, families, and individuals seeking affordable housing solutions in desirable areas.\n",
      "\n",
      "---\n",
      "\n",
      "### **4. Key Messaging:**\n",
      "- **Primary Message:** \"Discover affordable landed houses in prime locations, perfect for your lifestyle needs.\"\n",
      "- **Secondary Message:** \"Invest in your future with a home that offers both comfort and convenience.\"\n",
      "\n",
      "---\n",
      "\n",
      "### **5. Channels:**\n",
      "- **Social Media:** Instagram, Facebook, TikTok, and LinkedIn.\n",
      "- **Email Marketing:** Targeted email campaigns.\n",
      "- **Content Marketing:** Blog posts, infographics, and videos.\n",
      "- **Local Advertising:** Flyers, local newspapers, and community boards.\n",
      "\n",
      "---\n",
      "\n",
      "### **6. Content Strategy:**\n",
      "\n",
      "#### **A. Social Media Posts:**\n",
      "- **Instagram & Facebook:**\n",
      "  - **Post 1:** \"Dreaming of a landed house? Check out our affordable options in prime locations! 🏡✨ #DreamHome #AffordableLiving\"\n",
      "  - **Post 2:** \"Why settle for less? Discover our cheap landed houses that offer the perfect blend of comfort and convenience. 🌟 #HomeSweetHome #RealEstate\"\n",
      "  - **Post 3:** \"Millennials & Gen Z, your dream home is waiting! Explore our strategic locations today. 🏡🌆 #YoungHomebuyers #PropertyInvestment\"\n",
      "\n",
      "- **TikTok:**\n",
      "  - **Video 1:** \"Tour our affordable landed houses in prime locations! Swipe up to learn more. 🏡✨ #HomeTour #AffordableHouses\"\n",
      "  - **Video 2:** \"Looking for a cheap landed house? Check out these amazing options! 🌟 #RealEstate #DreamHome\"\n",
      "\n",
      "- **LinkedIn:**\n",
      "  - **Post:** \"For young professionals and families, discover affordable landed houses in strategic locations. Invest in your future today! 🏡🌆 #RealEstate #HomeInvestment\"\n",
      "\n",
      "#### **B. Email Campaign:**\n",
      "- **Subject Line:** \"Unlock Your Dream Home: Affordable Landed Houses in Prime Locations!\"\n",
      "- **Body:**\n",
      "  ```\n",
      "  Hi [Name],\n",
      "\n",
      "  Are you in the market for a landed house that won't break the bank? Look no further! We are excited to present you with a range of affordable landed houses in prime locations, perfect for millennials and Gen Z.\n",
      "\n",
      "  🌟 **Why Choose Our Landed Houses?**\n",
      "  - **Affordable Prices:** Get more for your money.\n",
      "  - **Strategic Locations:** Close to schools, parks, and public transport.\n",
      "  - **Comfort & Convenience:** Spacious living areas and modern amenities.\n",
      "\n",
      "  Don't miss out on this opportunity to invest in your dream home. Contact us today to schedule a viewing!\n",
      "\n",
      "  Best regards,\n",
      "  [Your Name]\n",
      "  [Your Contact Information]\n",
      "  ```\n",
      "\n",
      "#### **C. Blog Posts:**\n",
      "- **Post 1:** \"Top 5 Reasons to Invest in a Landed House for Millennials and Gen Z\"\n",
      "- **Post 2:** \"Finding Affordable Landed Houses in Prime Locations: A Guide for Young Homebuyers\"\n",
      "- **Post 3:** \"How to Choose the Perfect Landed House for Your Lifestyle\"\n",
      "\n",
      "#### **D. Infographics:**\n",
      "- **Infographic 1:** \"The Benefits of Buying a Landed House in Your 20s and 30s\"\n",
      "- **Infographic 2:** \"Affordable Landed Houses: Location, Price, and Lifestyle\"\n",
      "\n",
      "#### **E. Videos:**\n",
      "- **Video 1:** \"Virtual Tour: Affordable Landed Houses in Prime Locations\"\n",
      "- **Video 2:** \"Why Millennials and Gen Z Should Invest in Landed Houses\"\n",
      "\n",
      "---\n",
      "\n",
      "### **7. Call to Action (CTA):**\n",
      "- **Social Media:** \"Swipe up to learn more!\" / \"Click the link in our bio to explore!\"\n",
      "- **Email:** \"Contact us today to schedule a viewing!\"\n",
      "- **Blog & Infographics:** \"Download our guide now!\" / \"Sign up for our newsletter for more tips!\"\n",
      "- **Local Advertising:** \"Visit our website to view available properties!\"\n",
      "\n",
      "---\n",
      "\n",
      "### **8. Performance Metrics:**\n",
      "- **Social Media Engagement:** Likes, comments, shares, and swipe-ups.\n",
      "- **Email Open Rates:** Track open rates and click-through rates.\n",
      "- **Website Traffic:** Monitor visits to property listings and blog posts.\n",
      "- **Lead Generation:** Number of inquiries and scheduled viewings.\n",
      "\n",
      "---\n",
      "\n",
      "### **9. Budget Allocation:**\n",
      "- **Social Media Ads:** 30%\n",
      "- **Email Marketing:** 20%\n",
      "- **Content Creation:** 25%\n",
      "- **Local Advertising:** 15%\n",
      "- **Miscellaneous:** 10%\n",
      "\n",
      "---\n",
      "\n",
      "### **10. Timeline:**\n",
      "- **Month 1:** Campaign launch, initial social media posts, email campaign.\n",
      "- **Month 2:** Blog posts and infographics release, continued social media engagement.\n",
      "- **Month 3:** Video content release, local advertising, performance review.\n",
      "- **Month 4:** Adjustments based on performance metrics, ongoing engagement.\n",
      "\n",
      "---\n",
      "\n",
      "By leveraging a detailed, informative approach and inviting customers to buy, this campaign aims to attract millennial and Gen Z homebuyers to our affordable landed houses in strategic locations.\n"
     ]
    }
   ],
   "source": [
    "answer = result[\"output\"][\"message\"][\"content\"][0][\"text\"]\n",
    "print(answer)"
   ]
  },
  {
   "cell_type": "markdown",
   "id": "03ba1ab1-0df0-45ce-9f82-2f843961a00f",
   "metadata": {},
   "source": [
    "# Prompt Engineering - QnA (Question and Answering)"
   ]
  },
  {
   "cell_type": "code",
   "execution_count": 23,
   "id": "d6c0fbfe-fe00-4505-a5f0-f17b4cc075fe",
   "metadata": {},
   "outputs": [],
   "source": [
    "def qnaprompt(prompt, maxTokens, temperature):\n",
    "    message = [\n",
    "        {\n",
    "            \"role\": \"user\",\n",
    "            \"content\": [\n",
    "                {\n",
    "                    \"text\": prompt\n",
    "                }\n",
    "            ]\n",
    "        }\n",
    "    ]\n",
    "\n",
    "    inf_params = {\"maxTokens\": maxTokens, \"temperature\": temperature}\n",
    "\n",
    "    request = {\n",
    "        \"messages\": message,\n",
    "        \"inferenceConfig\": inf_params\n",
    "    }\n",
    "\n",
    "    response = bedrockruntime.invoke_model(modelId=novalite, body=json.dumps(request))\n",
    "    model_response = json.loads(response[\"body\"].read())\n",
    "    return model_response"
   ]
  },
  {
   "cell_type": "code",
   "execution_count": 31,
   "id": "7ebede3e-1a98-4361-ab04-815e7c199d02",
   "metadata": {},
   "outputs": [
    {
     "name": "stdout",
     "output_type": "stream",
     "text": [
      "{'output': {'message': {'content': [{'text': '1. Is gemma available in Bedrock?\\n   - Not available\\n\\n2. Is Bedrock uses instance type or serverless?\\n   - Serverless\\n\\n3. What is the function of bedrock with simple explanation?\\n   - Provides a scalable, serverless environment for running applications.'}], 'role': 'assistant'}}, 'stopReason': 'end_turn', 'usage': {'inputTokens': 51, 'outputTokens': 58, 'totalTokens': 109, 'cacheReadInputTokenCount': 0, 'cacheWriteInputTokenCount': 0}}\n"
     ]
    }
   ],
   "source": [
    "article = '''\n",
    "Amazon Bedrock is a fully managed service that offers a choice of high-performing foundation models (FMs) from leading AI companies \n",
    "like AI21 Labs, Anthropic, Cohere, DeepSeek, Luma, Meta, Mistral AI, poolside (coming soon), Stability AI, TwelveLabs (coming soon),\n",
    "Writer, and Amazon through a single API, along with a broad set of capabilities you need to build generative AI applications with \n",
    "security, privacy, and responsible AI. Using Amazon Bedrock, you can easily experiment with and evaluate top FMs for your use case, \n",
    "privately customize them with your data using techniques such as fine-tuning and Retrieval Augmented Generation (RAG), and build agents \n",
    "that execute tasks using your enterprise systems and data sources. Since Amazon Bedrock is serverless, you don't have to manage \n",
    "any infrastructure, and you can securely integrate and deploy generative AI capabilities into your applications using \n",
    "the AWS services you are already familiar with.\n",
    "'''.strip()\n",
    "prompt = '''\n",
    "Based on {article}, I want to asked:\n",
    "1. Is gemma available in Bedrock?\n",
    "2. Is Bedrock uses instance type or serverless?\n",
    "3. What is the function of bedrock with simple explanation?\n",
    "Answer all questions without detailed explanation.\n",
    "'''.strip()\n",
    "maxTokens = 300\n",
    "temperature = 0.1\n",
    "result = qnaprompt(prompt, maxTokens, temperature)\n",
    "print(result)"
   ]
  },
  {
   "cell_type": "code",
   "execution_count": 32,
   "id": "dee80344-383c-4189-9e3f-c78a90068208",
   "metadata": {},
   "outputs": [
    {
     "name": "stdout",
     "output_type": "stream",
     "text": [
      "1. Is gemma available in Bedrock?\n",
      "   - Not available\n",
      "\n",
      "2. Is Bedrock uses instance type or serverless?\n",
      "   - Serverless\n",
      "\n",
      "3. What is the function of bedrock with simple explanation?\n",
      "   - Provides a scalable, serverless environment for running applications.\n"
     ]
    }
   ],
   "source": [
    "answer = result[\"output\"][\"message\"][\"content\"][0][\"text\"]\n",
    "print(answer)"
   ]
  },
  {
   "cell_type": "code",
   "execution_count": null,
   "id": "fd3a3042-b460-4e1c-9360-1039e2901d6e",
   "metadata": {},
   "outputs": [],
   "source": []
  }
 ],
 "metadata": {
  "kernelspec": {
   "display_name": "conda_python3",
   "language": "python",
   "name": "conda_python3"
  },
  "language_info": {
   "codemirror_mode": {
    "name": "ipython",
    "version": 3
   },
   "file_extension": ".py",
   "mimetype": "text/x-python",
   "name": "python",
   "nbconvert_exporter": "python",
   "pygments_lexer": "ipython3",
   "version": "3.10.18"
  }
 },
 "nbformat": 4,
 "nbformat_minor": 5
}
