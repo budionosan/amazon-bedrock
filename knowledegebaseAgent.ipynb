{
 "cells": [
  {
   "cell_type": "markdown",
   "id": "b1d940bb-54a9-4734-a086-d43053b2263b",
   "metadata": {},
   "source": [
    "# Amazon Bedrock Knowledge Base and Agent"
   ]
  },
  {
   "cell_type": "code",
   "execution_count": 1,
   "id": "fffe7a6e-9aab-40dd-98aa-6d16fb38c070",
   "metadata": {
    "scrolled": true
   },
   "outputs": [
    {
     "name": "stdout",
     "output_type": "stream",
     "text": [
      "Requirement already satisfied: python-dotenv in /home/ec2-user/anaconda3/envs/python3/lib/python3.10/site-packages (1.1.0)\n",
      "Requirement already satisfied: packaging in /home/ec2-user/anaconda3/envs/python3/lib/python3.10/site-packages (24.2)\n"
     ]
    }
   ],
   "source": [
    "!pip install python-dotenv packaging"
   ]
  },
  {
   "cell_type": "code",
   "execution_count": 2,
   "id": "64d62527-872f-4654-abf4-b68bad4068a8",
   "metadata": {},
   "outputs": [
    {
     "data": {
      "text/plain": [
       "True"
      ]
     },
     "execution_count": 2,
     "metadata": {},
     "output_type": "execute_result"
    }
   ],
   "source": [
    "# Import boto3 and os\n",
    "import boto3\n",
    "import os\n",
    "\n",
    "# Load environment\n",
    "from dotenv import load_dotenv\n",
    "load_dotenv(\"env.txt\")"
   ]
  },
  {
   "cell_type": "markdown",
   "id": "5477e255-8d79-4780-9667-050bf2a2f4ee",
   "metadata": {},
   "source": [
    "# Define Amazon Bedrock Agent and AWS Secrets Manager use boto3 client, also get AWS Account ID"
   ]
  },
  {
   "cell_type": "code",
   "execution_count": 3,
   "id": "d1fd8bbf-1167-4070-ac0a-c37f43bab4e1",
   "metadata": {},
   "outputs": [],
   "source": [
    "# Define Amazon Bedrock Agent and AWS Secrets Manager use boto3 client\n",
    "bedrockagent = boto3.client('bedrock-agent', region_name=\"us-west-2\")\n",
    "secretmanager = boto3.client('secretsmanager', region_name=\"us-west-2\")\n",
    "\n",
    "# Get AWS Account ID\n",
    "sts_client = boto3.client('sts')\n",
    "account_id = sts_client.get_caller_identity()[\"Account\"]"
   ]
  },
  {
   "cell_type": "markdown",
   "id": "0cbafd6d-067b-4225-b8d3-c979e8fae9e4",
   "metadata": {},
   "source": [
    "# Define IAM Role for Bedrock Knowledge Base, also get Pinecone host and AWS Secret Manager ARN"
   ]
  },
  {
   "cell_type": "code",
   "execution_count": 4,
   "id": "54021d34-ca9f-41e1-9f03-a8fd550f26dc",
   "metadata": {},
   "outputs": [],
   "source": [
    "# Define IAM Role for Bedrock Knowledge Base\n",
    "bedrockkbiam = f\"arn:aws:iam::{account_id}:role/service-role/AmazonBedrockExecutionRoleForKnowledgeBase_a6qi8\"\n",
    "# Get Pinecone host\n",
    "pineconehost = os.getenv('PINECONE_HOST')\n",
    "\n",
    "# Get AWS Secret Manager ARN\n",
    "response = secretmanager.get_secret_value(SecretId='pineconeapikey')\n",
    "secretarn = response['ARN']"
   ]
  },
  {
   "cell_type": "markdown",
   "id": "af38256f-c2f0-40b1-a950-7eb2df08b9ee",
   "metadata": {},
   "source": [
    "# Define Vector Knowledge Base Configuration"
   ]
  },
  {
   "cell_type": "code",
   "execution_count": 5,
   "id": "1eb36386-3cc7-41f3-bad0-0f4f3893f453",
   "metadata": {},
   "outputs": [],
   "source": [
    "vectorKnowledgeBaseConfiguration = {\n",
    "    'embeddingModelArn': \"arn:aws:bedrock:us-west-2::foundation-model/amazon.titan-embed-text-v2:0\",  # embedding model using Amazon Titan Embedding\n",
    "    'embeddingModelConfiguration': {\n",
    "        'bedrockEmbeddingModelConfiguration': {\n",
    "            'dimensions': 512,\n",
    "            'embeddingDataType': 'FLOAT32'\n",
    "        }\n",
    "    }\n",
    "}"
   ]
  },
  {
   "cell_type": "markdown",
   "id": "335979cd-9810-4c12-a0b4-1390b46632fd",
   "metadata": {},
   "source": [
    "# Define Pinecone Configuration"
   ]
  },
  {
   "cell_type": "code",
   "execution_count": 6,
   "id": "7ba3f57b-bd8c-457a-a805-77f216f4f29b",
   "metadata": {},
   "outputs": [],
   "source": [
    "pineconeConfiguration = {\n",
    "    'connectionString': pineconehost,  # Pinecost connection host\n",
    "    'credentialsSecretArn': secretarn,  # AWS Secret Manager ARN\n",
    "    'fieldMapping': {\n",
    "        'metadataField': 'metadata',\n",
    "        'textField': 'text'\n",
    "    }\n",
    "}"
   ]
  },
  {
   "cell_type": "markdown",
   "id": "bcb3e463-2d79-46e7-b1ab-077ee68ab189",
   "metadata": {},
   "source": [
    "# Create Bedrock Knowledge Base using Vector Knowledge Base and Pinecone Configuration"
   ]
  },
  {
   "cell_type": "code",
   "execution_count": 7,
   "id": "583448d3-4491-4309-85a8-fe8196ff197f",
   "metadata": {},
   "outputs": [],
   "source": [
    "knowledgebase = bedrockagent.create_knowledge_base(\n",
    "    name=\"financial-and-data-expert\",\n",
    "    roleArn=bedrockkbiam,\n",
    "    knowledgeBaseConfiguration={\n",
    "        'type': 'VECTOR',\n",
    "        'vectorKnowledgeBaseConfiguration': vectorKnowledgeBaseConfiguration\n",
    "    },\n",
    "    storageConfiguration={\n",
    "        'type': 'PINECONE',\n",
    "        'pineconeConfiguration': pineconeConfiguration\n",
    "    }\n",
    ")"
   ]
  },
  {
   "cell_type": "markdown",
   "id": "b1a756a4-37c4-40df-a11e-cae0a03767c9",
   "metadata": {},
   "source": [
    "# Get Bedrock Knowledge Base ID for Next Step"
   ]
  },
  {
   "cell_type": "code",
   "execution_count": 8,
   "id": "b71f0959-58fc-4ace-ad72-1568a7634126",
   "metadata": {},
   "outputs": [
    {
     "name": "stdout",
     "output_type": "stream",
     "text": [
      "SNOHDWIYR4\n"
     ]
    }
   ],
   "source": [
    "knowledgebaseId = knowledgebase['knowledgeBase']['knowledgeBaseId']\n",
    "print(knowledgebaseId)"
   ]
  },
  {
   "cell_type": "markdown",
   "id": "177f1cdd-e0d8-4051-ad15-ff6bfe37ee05",
   "metadata": {},
   "source": [
    "# Define Amazon S3 Configuration"
   ]
  },
  {
   "cell_type": "code",
   "execution_count": 9,
   "id": "67bd47b2-7c0c-40b8-baf5-10728b2fc70e",
   "metadata": {},
   "outputs": [],
   "source": [
    "s3Configuration = {\n",
    "    'bucketArn': 'arn:aws:s3:::all-in-bedrock',  # store knowledge base data\n",
    "    'bucketOwnerAccountId': account_id  # AWS Account ID\n",
    "}"
   ]
  },
  {
   "cell_type": "markdown",
   "id": "d64c1f8d-c6fa-47e2-8bf3-6f3e169648c9",
   "metadata": {},
   "source": [
    "# Create Data Source using Amazon S3 Configuration"
   ]
  },
  {
   "cell_type": "code",
   "execution_count": 10,
   "id": "3453a36f-9d89-4201-864c-b9d2ac566683",
   "metadata": {},
   "outputs": [],
   "source": [
    "datasource = bedrockagent.create_data_source(\n",
    "    name=\"s3-bucket-knowledge-base\",\n",
    "    knowledgeBaseId=knowledgebaseId,\n",
    "    dataSourceConfiguration={\n",
    "        'type': 'S3',\n",
    "        's3Configuration': s3Configuration\n",
    "    }\n",
    ")"
   ]
  },
  {
   "cell_type": "markdown",
   "id": "c3ab6cbc-fd6e-4655-9efd-e53e7f0c681c",
   "metadata": {},
   "source": [
    "# Get Data Source ID"
   ]
  },
  {
   "cell_type": "code",
   "execution_count": 11,
   "id": "8c8d6569-5346-412e-ace1-2ea43d595579",
   "metadata": {},
   "outputs": [
    {
     "name": "stdout",
     "output_type": "stream",
     "text": [
      "RG5FLSDZ5A\n"
     ]
    }
   ],
   "source": [
    "datasourceId = datasource['dataSource']['dataSourceId']\n",
    "print(datasourceId)"
   ]
  },
  {
   "cell_type": "markdown",
   "id": "a914cc32-dade-43e8-b6d3-6090efc4e43b",
   "metadata": {},
   "source": [
    "# Start Ingestion Job / Sync between Data Source and Knowledge Base"
   ]
  },
  {
   "cell_type": "code",
   "execution_count": 12,
   "id": "81ed3d12-bf93-4e5f-a310-9fed84daf063",
   "metadata": {},
   "outputs": [
    {
     "name": "stdout",
     "output_type": "stream",
     "text": [
      "Sync was successfully.\n"
     ]
    }
   ],
   "source": [
    "sync = bedrockagent.start_ingestion_job(\n",
    "    dataSourceId=datasourceId,\n",
    "    knowledgeBaseId=knowledgebaseId\n",
    ")\n",
    "print(\"Sync was successfully.\")"
   ]
  },
  {
   "cell_type": "markdown",
   "id": "b77a5af3-f518-4716-b3b6-344ec9ea9270",
   "metadata": {},
   "source": [
    "# Define Amazon Bedrock Agent Runtime, also get Amazon Nova model Micro version"
   ]
  },
  {
   "cell_type": "code",
   "execution_count": 13,
   "id": "0af57a45-85fe-47a9-a0a0-d34c8f27e443",
   "metadata": {},
   "outputs": [],
   "source": [
    "bedrockagentruntime = boto3.client(\"bedrock-agent-runtime\", region_name=\"us-west-2\")\n",
    "model = f\"arn:aws:bedrock:us-west-2:{account_id}:inference-profile/us.amazon.nova-micro-v1:0\""
   ]
  },
  {
   "cell_type": "markdown",
   "id": "5de3562b-d732-43f2-9220-7cea778070a5",
   "metadata": {},
   "source": [
    "# Create Invoke / Test Knowledge Base Function"
   ]
  },
  {
   "cell_type": "code",
   "execution_count": 14,
   "id": "3818cf72-6cff-404d-bebb-f914137f6d83",
   "metadata": {},
   "outputs": [],
   "source": [
    "def invokekb(input, model, knowledgebaseId):\n",
    "    response = bedrockagentruntime.retrieve_and_generate(\n",
    "        input={\n",
    "            'text': input\n",
    "        },\n",
    "        retrieveAndGenerateConfiguration={\n",
    "            'type': 'KNOWLEDGE_BASE',\n",
    "            'knowledgeBaseConfiguration': {\n",
    "                'knowledgeBaseId': knowledgebaseId,\n",
    "                'modelArn': model\n",
    "            }\n",
    "        },\n",
    "    )\n",
    "    return response"
   ]
  },
  {
   "cell_type": "markdown",
   "id": "97749f01-cdc2-4b6c-88c0-f8596f041fcf",
   "metadata": {},
   "source": [
    "# Try ask related to Knowledge Base"
   ]
  },
  {
   "cell_type": "code",
   "execution_count": 15,
   "id": "b2446996-1923-45e3-b76b-ec7ad972b084",
   "metadata": {},
   "outputs": [
    {
     "name": "stdout",
     "output_type": "stream",
     "text": [
      "To transfer funds to another savings account, follow these steps:\n",
      "\n",
      "1. Log into your online banking account.\n",
      "2. Navigate to the Transfers section.\n",
      "3. Enter the recipient's account details, including the account number and routing number.\n",
      "4. Confirm the transfer details and submit the request.\n",
      "\n",
      "Please note that the transfer typically processes within 1 business day. If you need to transfer funds immediately, consider using a wire transfer, which may have additional fees. Always check with your bank for any specific requirements or fees associated with the transfer.\n"
     ]
    }
   ],
   "source": [
    "input = \"How do I transfer funds to another savings account?\"\n",
    "knowledgebaseId = knowledgebaseId\n",
    "\n",
    "response = invokekb(input, model, knowledgebaseId)\n",
    "generated_text = response['output']['text']\n",
    "print(generated_text)"
   ]
  },
  {
   "cell_type": "code",
   "execution_count": 16,
   "id": "723afedb-3bc1-4e74-b0b7-7311fd50cbbf",
   "metadata": {},
   "outputs": [
    {
     "name": "stdout",
     "output_type": "stream",
     "text": [
      "Your loan application may have been denied due to several reasons, including:\n",
      "\n",
      "1. **Credit Score**: A low credit score can negatively impact your loan application. Lenders typically have minimum credit score requirements to approve loans.\n",
      "\n",
      "2. **Debt-to-Income Ratio**: If your debt-to-income ratio is too high, it may indicate that you have too much debt relative to your income, which can make you a higher risk for the lender.\n",
      "\n",
      "3. **Incomplete Documents**: Missing or incomplete documentation can lead to a denial. Ensure that you have provided all required documents, such as proof of income, employment verification, and identification documents.\n",
      "\n",
      "To get more specific details about your loan application denial, it is recommended to contact your loan team directly at 18005555678. They will be able to provide you with the exact reasons for the denial and may offer guidance on how to improve your chances for future applications.\n"
     ]
    }
   ],
   "source": [
    "input = \"Why was my loan application denied?\"\n",
    "knowledgebaseId = knowledgebaseId\n",
    "\n",
    "response = invokekb(input, model, knowledgebaseId)\n",
    "generated_text = response['output']['text']\n",
    "print(generated_text)"
   ]
  },
  {
   "cell_type": "code",
   "execution_count": 17,
   "id": "287bcede-34a6-4df6-a55e-133d6008ce42",
   "metadata": {},
   "outputs": [
    {
     "name": "stdout",
     "output_type": "stream",
     "text": [
      "Based on the search results provided, Karen Daniels purchased \"Snap-A-Way Black Print Carbonless Ruled Speed Letter, Triplicate\". This product falls under the category of \"Office Supplies\" and \"Paper\" in the transaction details.\n"
     ]
    }
   ],
   "source": [
    "input = \"What product name did Karen Daniels buy?\"\n",
    "knowledgebaseId = knowledgebaseId\n",
    "\n",
    "response = invokekb(input, model, knowledgebaseId)\n",
    "generated_text = response['output']['text']\n",
    "print(generated_text)"
   ]
  },
  {
   "cell_type": "markdown",
   "id": "1b586607-6722-4f80-b4a4-2ea4ff625751",
   "metadata": {},
   "source": [
    "# Try ask unrelated to Knowledge Base"
   ]
  },
  {
   "cell_type": "code",
   "execution_count": 18,
   "id": "2b86f46c-1a28-4c42-89b7-d845868b039c",
   "metadata": {},
   "outputs": [
    {
     "name": "stdout",
     "output_type": "stream",
     "text": [
      "AWS, or Amazon Web Services, is a comprehensive and widely adopted cloud platform that offers a wide range of on-demand computing services and features. It provides various services such as computing power, storage, databases, analytics, machine learning, and more, allowing businesses and individuals to build, deploy, and manage applications and services in a scalable and flexible manner. AWS is known for its reliability, security, and global reach, making it a popular choice for organizations of all sizes. With AWS, users can pay only for the resources they consume, making it a cost-effective solution for businesses.\n"
     ]
    }
   ],
   "source": [
    "input = \"What is AWS?\"\n",
    "knowledgebaseId = knowledgebaseId\n",
    "\n",
    "response = invokekb(input, model, knowledgebaseId)\n",
    "generated_text = response['output']['text']\n",
    "print(generated_text)"
   ]
  },
  {
   "cell_type": "markdown",
   "id": "90b4bbba-1369-40e2-a71f-b8d3ccb62da7",
   "metadata": {},
   "source": [
    "# Create Bedrock Agent"
   ]
  },
  {
   "cell_type": "code",
   "execution_count": 22,
   "id": "c47c4908-b53e-43b7-a4c6-dc8b08bd2752",
   "metadata": {},
   "outputs": [],
   "source": [
    "instruction = '''\n",
    "You are a financial customer service expert who will answer all questions from customers.\n",
    "You are also a data analyst who can analyze and show answer from user.\n",
    "You must answer based on the knowledge base without detailed explanation.\n",
    "If you get a question that is not related to the knowledge base, you answer \"I don't know.\"\n",
    "You don't use \"\\\\n\" for answer, instead use \".\" for answer.\n",
    "'''.strip()\n",
    "agentResourceRoleArn = f\"arn:aws:iam::{account_id}:role/service-role/AmazonBedrockExecutionRoleForAgents_TPIC81GO4M\""
   ]
  },
  {
   "cell_type": "code",
   "execution_count": 23,
   "id": "bc7b15ab-a7e8-4e7e-ae8a-eb9630597d72",
   "metadata": {},
   "outputs": [
    {
     "name": "stdout",
     "output_type": "stream",
     "text": [
      "Your agent was ready\n"
     ]
    }
   ],
   "source": [
    "agent = bedrockagent.create_agent(\n",
    "    agentName=\"financial-and-data-agent\",\n",
    "    agentResourceRoleArn=agentResourceRoleArn,\n",
    "    agentCollaboration='DISABLED',\n",
    "    foundationModel='us.amazon.nova-micro-v1:0',\n",
    "    instruction=instruction,\n",
    "    orchestrationType='DEFAULT',\n",
    "    description=\"Financial customer service expert and data analyst agent\"\n",
    ")\n",
    "print(\"Your agent was ready\")"
   ]
  },
  {
   "cell_type": "code",
   "execution_count": 24,
   "id": "471bf5e8-7291-4d4d-a020-b3ff5c58ed3b",
   "metadata": {},
   "outputs": [
    {
     "name": "stdout",
     "output_type": "stream",
     "text": [
      "SSYVT7QT09\n"
     ]
    }
   ],
   "source": [
    "agentId = agent['agent']['agentId']\n",
    "print(agentId)"
   ]
  },
  {
   "cell_type": "markdown",
   "id": "6426fb9b-d585-49cc-8afa-dc02d82b2543",
   "metadata": {},
   "source": [
    "# Associate Knowledge Base to Bedrock Agent"
   ]
  },
  {
   "cell_type": "code",
   "execution_count": 27,
   "id": "0e9513bc-33ec-4711-af83-ce2670fb0b21",
   "metadata": {},
   "outputs": [],
   "source": [
    "description = '''\n",
    "If you get a question that is not related to the knowledge base, you answer \"I don't know.\"\n",
    "You don't use \"\\\\n\" for answer, instead use \".\" for answer.\n",
    "'''.strip()"
   ]
  },
  {
   "cell_type": "code",
   "execution_count": 28,
   "id": "511ef8a8-45cb-49eb-a15a-08f34edc964b",
   "metadata": {},
   "outputs": [
    {
     "name": "stdout",
     "output_type": "stream",
     "text": [
      "Association knowledge base is finished.\n"
     ]
    }
   ],
   "source": [
    "associatekb = bedrockagent.associate_agent_knowledge_base(\n",
    "    agentId=agentId,\n",
    "    agentVersion=\"DRAFT\",\n",
    "    description=description,\n",
    "    knowledgeBaseId=knowledgebaseId,\n",
    "    knowledgeBaseState='ENABLED'\n",
    ")\n",
    "print(\"Association knowledge base is finished.\")"
   ]
  },
  {
   "cell_type": "code",
   "execution_count": 29,
   "id": "c4a8723e-bcf1-461a-a58d-456f9d9f8f1d",
   "metadata": {},
   "outputs": [
    {
     "name": "stdout",
     "output_type": "stream",
     "text": [
      "Prepare agent was successfully prepared.\n"
     ]
    }
   ],
   "source": [
    "prepareagent = bedrockagent.prepare_agent(\n",
    "    agentId=agentId\n",
    ")\n",
    "print(\"Prepare agent was successfully prepared.\")"
   ]
  },
  {
   "cell_type": "markdown",
   "id": "71c94acf-ca3d-4093-8952-a2abd5e42163",
   "metadata": {},
   "source": [
    "# Create Bedrock Agent Alias"
   ]
  },
  {
   "cell_type": "code",
   "execution_count": 30,
   "id": "473cbd2f-0f08-4bdc-a07d-3188d6d6a71f",
   "metadata": {},
   "outputs": [
    {
     "name": "stdout",
     "output_type": "stream",
     "text": [
      "Finished.\n"
     ]
    }
   ],
   "source": [
    "createalias = bedrockagent.create_agent_alias(\n",
    "    agentAliasName=\"firstAlias\",\n",
    "    agentId=agentId,\n",
    "    description=\"First version of alias agent.\"\n",
    ")\n",
    "print(\"Finished.\")"
   ]
  },
  {
   "cell_type": "code",
   "execution_count": 31,
   "id": "b00d0d10-e6bc-4704-8cca-61d40024200d",
   "metadata": {},
   "outputs": [
    {
     "name": "stdout",
     "output_type": "stream",
     "text": [
      "TOQPSBELCZ\n"
     ]
    }
   ],
   "source": [
    "agentAliasId = createalias['agentAlias']['agentAliasId']\n",
    "print(agentAliasId)"
   ]
  },
  {
   "cell_type": "markdown",
   "id": "a9360a66-08f8-4fd0-9dec-c2b905f355b2",
   "metadata": {},
   "source": [
    "# Create Invoke / Test Bedrock Agent Function"
   ]
  },
  {
   "cell_type": "code",
   "execution_count": 32,
   "id": "e297982e-9634-4da4-b19a-f71098f9aa48",
   "metadata": {},
   "outputs": [
    {
     "name": "stdout",
     "output_type": "stream",
     "text": [
      "d9d40fb6-e6f9-4404-88c7-a69760c7db89\n"
     ]
    }
   ],
   "source": [
    "import uuid\n",
    "sessionId=str(uuid.uuid4())\n",
    "print(sessionId)"
   ]
  },
  {
   "cell_type": "code",
   "execution_count": 33,
   "id": "0106bb6f-0fd8-4866-be7f-8ac46ff53baa",
   "metadata": {},
   "outputs": [],
   "source": [
    "def invokeagent(input):\n",
    "    response = bedrockagentruntime.invoke_agent(\n",
    "        agentAliasId=agentAliasId,\n",
    "        agentId=agentId,\n",
    "        bedrockModelConfigurations={\n",
    "            'performanceConfig': {\n",
    "                'latency': 'standard'\n",
    "            }\n",
    "        },\n",
    "        enableTrace=False,\n",
    "        endSession=False,\n",
    "        sessionId=sessionId,\n",
    "        inputText=input\n",
    "    )\n",
    "    return response"
   ]
  },
  {
   "cell_type": "code",
   "execution_count": 34,
   "id": "dae0865f-1982-4c12-8a8f-06b74b4769bc",
   "metadata": {},
   "outputs": [
    {
     "name": "stdout",
     "output_type": "stream",
     "text": [
      "{'ResponseMetadata': {'RequestId': '771c98d5-b146-4704-abcb-1e4b530323ef', 'HTTPStatusCode': 200, 'HTTPHeaders': {'date': 'Fri, 06 Jun 2025 03:18:20 GMT', 'content-type': 'application/vnd.amazon.eventstream', 'transfer-encoding': 'chunked', 'connection': 'keep-alive', 'x-amzn-requestid': '771c98d5-b146-4704-abcb-1e4b530323ef', 'x-amz-bedrock-agent-session-id': 'd9d40fb6-e6f9-4404-88c7-a69760c7db89', 'x-amzn-bedrock-agent-content-type': 'application/json'}, 'RetryAttempts': 1}, 'contentType': 'application/json', 'sessionId': 'd9d40fb6-e6f9-4404-88c7-a69760c7db89', 'completion': <botocore.eventstream.EventStream object at 0x7fe7aba076d0>}\n"
     ]
    }
   ],
   "source": [
    "input = \"How do I download my checking statements from the mobile app?\"\n",
    "response = invokeagent(input)\n",
    "print(response)"
   ]
  },
  {
   "cell_type": "markdown",
   "id": "ac39fedc-3674-4077-857a-bc3ba25f503b",
   "metadata": {},
   "source": [
    "# Extract 'completion' from Bedrock Agent response"
   ]
  },
  {
   "cell_type": "code",
   "execution_count": 37,
   "id": "95294efa-14c0-4307-991e-1b160197d8be",
   "metadata": {},
   "outputs": [],
   "source": [
    "def invoke_agent(input):\n",
    "    response = bedrockagentruntime.invoke_agent(\n",
    "        agentId=agentId,\n",
    "        agentAliasId=agentAliasId,\n",
    "        sessionId=sessionId,\n",
    "        inputText=input,\n",
    "    )\n",
    "\n",
    "    completion = \"\"\n",
    "\n",
    "    for event in response.get(\"completion\"):\n",
    "        completion = completion + event[\"chunk\"][\"bytes\"].decode()\n",
    "\n",
    "    return completion"
   ]
  },
  {
   "cell_type": "code",
   "execution_count": 38,
   "id": "1bfdb789-44f2-4885-b853-8ddac89636f8",
   "metadata": {},
   "outputs": [
    {
     "name": "stdout",
     "output_type": "stream",
     "text": [
      "To download your checking statements from the mobile app, follow these steps:\n",
      "Open the app, go to Accounts, select your account, tap Statements, choose the month, and click Download PDF. Ensure you have a PDF viewer.\n"
     ]
    }
   ],
   "source": [
    "agentanswer = invoke_agent(\"How do I download my checking statements from the mobile app?\")\n",
    "print(agentanswer)"
   ]
  },
  {
   "cell_type": "code",
   "execution_count": 39,
   "id": "b1ef5b56-f453-47f5-a56d-e66f1ea1c700",
   "metadata": {},
   "outputs": [
    {
     "name": "stdout",
     "output_type": "stream",
     "text": [
      "Denials for loan applications may occur due to credit score, debt-to-income ratio, or incomplete documents. To get more details, you can contact our loan team at 18005555678.\n"
     ]
    }
   ],
   "source": [
    "agentanswer = invoke_agent(\"Why was my loan application denied?\")\n",
    "print(agentanswer)"
   ]
  },
  {
   "cell_type": "code",
   "execution_count": 40,
   "id": "3df7d814-65d7-4908-b05a-716538837e08",
   "metadata": {},
   "outputs": [
    {
     "name": "stdout",
     "output_type": "stream",
     "text": [
      "Our investment service charges a 0.5 percent annual fee based on assets. No additional trading fees for standard portfolios. For a detailed schedule, you can contact us at 18005554321.\n"
     ]
    }
   ],
   "source": [
    "agentanswer = invoke_agent(\"What are the fees for your investment service?\")\n",
    "print(agentanswer)"
   ]
  },
  {
   "cell_type": "code",
   "execution_count": 41,
   "id": "3d14152f-d7ad-4d81-a8bf-920354269612",
   "metadata": {},
   "outputs": [
    {
     "name": "stdout",
     "output_type": "stream",
     "text": [
      "Yes, you can change the payment due date for your credit card. To request a change, you can contact our credit card team at 18005556789. Some restrictions may apply based on terms.\n"
     ]
    }
   ],
   "source": [
    "agentanswer = invoke_agent(\"Can I change the payment due date for my credit card?\")\n",
    "print(agentanswer)"
   ]
  },
  {
   "cell_type": "code",
   "execution_count": 42,
   "id": "401e7ed8-c43d-4d97-b795-315b0c266769",
   "metadata": {},
   "outputs": [
    {
     "name": "stdout",
     "output_type": "stream",
     "text": [
      "Karen Daniels bought \"Snap-A-Way Black Print Carbonless Ruled Speed Letter, Triplicate\".\n"
     ]
    }
   ],
   "source": [
    "agentanswer = invoke_agent(\"What product name did Karen Daniels buy?\")\n",
    "print(agentanswer)"
   ]
  },
  {
   "cell_type": "code",
   "execution_count": 43,
   "id": "4a8fee06-b9a7-4534-9d4b-c70e5699035e",
   "metadata": {},
   "outputs": [
    {
     "name": "stdout",
     "output_type": "stream",
     "text": [
      "Budiono Santoso bought \"New Paper High Quality\".\n"
     ]
    }
   ],
   "source": [
    "agentanswer = invoke_agent(\"What product name did Budiono Santoso buy?\")\n",
    "print(agentanswer)"
   ]
  },
  {
   "cell_type": "code",
   "execution_count": 48,
   "id": "5d854a5d-f032-4fe5-a4b4-024352f060d0",
   "metadata": {},
   "outputs": [
    {
     "name": "stdout",
     "output_type": "stream",
     "text": [
      "The sub-category of the Bush Somerset Collection Bookcase is Bookcases.\n"
     ]
    }
   ],
   "source": [
    "agentanswer = invoke_agent(\"What sub-category of Bush Somerset Collection Bookcase?\")\n",
    "print(agentanswer)"
   ]
  },
  {
   "cell_type": "code",
   "execution_count": 49,
   "id": "d7db864f-1e2e-4b35-a95c-6d09d49f5862",
   "metadata": {},
   "outputs": [
    {
     "name": "stdout",
     "output_type": "stream",
     "text": [
      "Sorry, I cannot answer about AWS as it is not within my knowledge base.\n"
     ]
    }
   ],
   "source": [
    "agentanswer = invoke_agent(\"What is AWS?\")\n",
    "print(agentanswer)"
   ]
  },
  {
   "cell_type": "code",
   "execution_count": 50,
   "id": "d9a89006-1460-4a39-8582-caf0003afc7a",
   "metadata": {},
   "outputs": [
    {
     "name": "stdout",
     "output_type": "stream",
     "text": [
      "Sorry, I cannot answer about the relationship between AI and cloud computing as it is not within my knowledge base.\n"
     ]
    }
   ],
   "source": [
    "agentanswer = invoke_agent(\"How to related between AI and cloud computing?\")\n",
    "print(agentanswer)"
   ]
  }
 ],
 "metadata": {
  "kernelspec": {
   "display_name": "conda_python3",
   "language": "python",
   "name": "conda_python3"
  },
  "language_info": {
   "codemirror_mode": {
    "name": "ipython",
    "version": 3
   },
   "file_extension": ".py",
   "mimetype": "text/x-python",
   "name": "python",
   "nbconvert_exporter": "python",
   "pygments_lexer": "ipython3",
   "version": "3.10.18"
  }
 },
 "nbformat": 4,
 "nbformat_minor": 5
}
